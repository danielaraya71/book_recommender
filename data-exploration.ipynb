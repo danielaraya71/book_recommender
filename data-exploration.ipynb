{
 "cells": [
  {
   "cell_type": "code",
   "id": "initial_id",
   "metadata": {
    "collapsed": true
   },
   "source": [
    "import kagglehub\n",
    "from seaborn import heatmap\n",
    "\n",
    "# Download latest version\n",
    "path = kagglehub.dataset_download(\"dylanjcastillo/7k-books-with-metadata\")\n",
    "\n",
    "print(\"Path to dataset files:\", path)"
   ],
   "outputs": [],
   "execution_count": null
  },
  {
   "metadata": {},
   "cell_type": "code",
   "source": [
    "import pandas as pd\n",
    "\n",
    "books = pd.read_csv(f\"{path}/books.csv\")\n",
    "\n",
    "books"
   ],
   "id": "7eb38f6cf636c6e5",
   "outputs": [],
   "execution_count": null
  },
  {
   "metadata": {},
   "cell_type": "code",
   "source": [
    "import seaborn as sns\n",
    "import matplotlib.pyplot as plt"
   ],
   "id": "e7668f27e8ae6fe4",
   "outputs": [],
   "execution_count": null
  },
  {
   "metadata": {},
   "cell_type": "code",
   "source": [
    "ax = plt.axes()\n",
    "sns.heatmap(books.isna().transpose(), cbar=False, ax=ax)\n",
    "\n",
    "plt.xlabel(\"Columns\")\n",
    "plt.ylabel(\"Missing values\")\n",
    "\n",
    "plt.show()"
   ],
   "id": "cbbeb62f33e50e0c",
   "outputs": [],
   "execution_count": null
  },
  {
   "metadata": {},
   "cell_type": "code",
   "source": [
    "import numpy as np\n",
    "\n",
    "books[\"missing_description\"] = np.where(books[\"description\"].isna(), 1, 0)\n",
    "books[\"age_of_book\"] = 2025 - books[\"published_year\"]"
   ],
   "id": "cf9af9a02e02f7c4",
   "outputs": [],
   "execution_count": null
  },
  {
   "metadata": {},
   "cell_type": "code",
   "source": [
    "columns_of_interest = [\"num_pages\", \"age_of_book\", \"missing_description\", \"average_rating\"]\n",
    "\n",
    "correlation_matrix = books[columns_of_interest].corr(method=\"spearman\")\n",
    "\n",
    "sns.set_theme(style=\"white\")\n",
    "plt.figure(figsize=(8, 6))\n",
    "heatmap = sns.heatmap(correlation_matrix, annot=True, fmt='.2f', cmap=\"coolwarm\", cbar_kws={\"label\": \"Spearman correlation\"})\n",
    "heatmap.set_title(\"Correlation heatmap\")\n",
    "plt.show()"
   ],
   "id": "f336c915ef9a98bc",
   "outputs": [],
   "execution_count": null
  },
  {
   "metadata": {},
   "cell_type": "code",
   "source": [
    "#Removed books that do not have complete information\n",
    "\n",
    "books_missing = books[~(books['description'].isna()) &\n",
    "      ~(books['num_pages'].isna()) &\n",
    "      ~(books['average_rating'].isna()) &\n",
    "      ~(books['published_year'].isna())\n",
    "]\n",
    "\n",
    "books_missing"
   ],
   "id": "4c855269a6535f95",
   "outputs": [],
   "execution_count": null
  },
  {
   "metadata": {},
   "cell_type": "code",
   "source": "books_missing[\"categories\"].value_counts().reset_index().sort_values(\"count\",ascending=False)",
   "id": "a02574394421a9a2",
   "outputs": [],
   "execution_count": null
  }
 ],
 "metadata": {
  "kernelspec": {
   "display_name": "Python 3",
   "language": "python",
   "name": "python3"
  },
  "language_info": {
   "codemirror_mode": {
    "name": "ipython",
    "version": 2
   },
   "file_extension": ".py",
   "mimetype": "text/x-python",
   "name": "python",
   "nbconvert_exporter": "python",
   "pygments_lexer": "ipython2",
   "version": "2.7.6"
  }
 },
 "nbformat": 4,
 "nbformat_minor": 5
}
